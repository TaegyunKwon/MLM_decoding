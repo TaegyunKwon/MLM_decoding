{
 "cells": [
  {
   "cell_type": "code",
   "execution_count": 1,
   "metadata": {},
   "outputs": [],
   "source": [
    "import tensorflow as tf\n",
    "from tensorflow import keras"
   ]
  },
  {
   "cell_type": "code",
   "execution_count": null,
   "metadata": {},
   "outputs": [],
   "source": [
    "history = 10\n",
    "pitch_window = sorted([-19, -12, 0, 12, 19])\n",
    "\n",
    "num_features = X.shape[1] - len(pitch_window) * history - 1\n",
    "\n",
    "\n",
    "acoustic = keras.layers.Input(shape=(len(pitch_window), history), dtype='float', name='acoustic')\n",
    "language = keras.layers.Input(shape=(len(pitch_window), history), dtype='float', name='language')\n",
    "features = keras.layers.Input(shape=(num_features + 1,), dtype='float', name='features')\n",
    "\n",
    "acoustic_pitch = keras.layers.Conv2d(...)(acoustic)\n",
    "acoustic_pitch = keras.layers.Flatten(...)(acoustic_pitch)\n",
    "acoustic_hist = keras.layers.Conv2d(...)(acoustic)\n",
    "acoustic_hist = keras.layers.Flatten(...)(acoustic_hist)\n",
    "\n",
    "\n",
    "language_pitch = keras.layers.Conv2d(...)(language)\n",
    "language_pitch = keras.layers.Flatten(...)(language_pitch)\n",
    "language_hist = keras.layers.Conv2d(...)(language)\n",
    "language_hist = keras.layers.Flatten(...)(language_hist)\n",
    "\n",
    "dense_in = keras.layers.Concatenate(...)((acoustic_pitch, acoustic_hist, language_pitch, language_hist, features))\n",
    "\n",
    "dense = keras.layers.Dense(...)(dense)\n",
    "dense = keras.layers.Dense(...)(dense)\n",
    "dense = keras.layers.Dense(...)(dense)\n",
    "\n",
    "out = keras.layers.Dense(...)(dense)\n"
   ]
  }
 ],
 "metadata": {
  "kernelspec": {
   "display_name": "Python 3",
   "language": "python",
   "name": "python3"
  },
  "language_info": {
   "codemirror_mode": {
    "name": "ipython",
    "version": 3
   },
   "file_extension": ".py",
   "mimetype": "text/x-python",
   "name": "python",
   "nbconvert_exporter": "python",
   "pygments_lexer": "ipython3",
   "version": "3.6.8"
  }
 },
 "nbformat": 4,
 "nbformat_minor": 2
}
